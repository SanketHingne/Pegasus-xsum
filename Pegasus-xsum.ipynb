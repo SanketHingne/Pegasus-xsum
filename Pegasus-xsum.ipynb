{
 "cells": [
  {
   "cell_type": "code",
   "execution_count": null,
   "id": "df6aa9b5-9831-4e1b-aa9f-efffc0a3d96c",
   "metadata": {},
   "outputs": [],
   "source": [
    "# 1. Install dependencies\n",
    "# install pytorch\n",
    "!pip install torch==1.8.2+cu111 torchvision==0.9.2+cu111 torchaudio===0.8.2 -f https://download.pytorch.org/whl/lts/1.8/torch_lts.html"
   ]
  },
  {
   "cell_type": "code",
   "execution_count": null,
   "id": "f97fbd3d-0306-4aba-a097-111c3e232b06",
   "metadata": {},
   "outputs": [],
   "source": [
    "# install transformers\n",
    "!pip install transformers"
   ]
  },
  {
   "cell_type": "code",
   "execution_count": 5,
   "id": "1ae3ed5c-3f40-4786-a9c9-46c7434bd0a3",
   "metadata": {},
   "outputs": [],
   "source": [
    "# import and load model\n",
    "\n",
    "#1. importing dependencies from transformers\n",
    "from transformers import PegasusForConditionalGeneration, PegasusTokenizer"
   ]
  },
  {
   "cell_type": "code",
   "execution_count": 6,
   "id": "9be0c9fd-bc29-4b71-8ea3-5efafcdbb98f",
   "metadata": {},
   "outputs": [
    {
     "data": {
      "application/vnd.jupyter.widget-view+json": {
       "model_id": "1147164bd72748d4ad66ebe97ba77f17",
       "version_major": 2,
       "version_minor": 0
      },
      "text/plain": [
       "Downloading:   0%|          | 0.00/1.82M [00:00<?, ?B/s]"
      ]
     },
     "metadata": {},
     "output_type": "display_data"
    },
    {
     "data": {
      "application/vnd.jupyter.widget-view+json": {
       "model_id": "08f3203553544d148f95a66ca2cd2462",
       "version_major": 2,
       "version_minor": 0
      },
      "text/plain": [
       "Downloading:   0%|          | 0.00/65.0 [00:00<?, ?B/s]"
      ]
     },
     "metadata": {},
     "output_type": "display_data"
    },
    {
     "data": {
      "application/vnd.jupyter.widget-view+json": {
       "model_id": "c1f9af54675540c9a00f671df2a11bc2",
       "version_major": 2,
       "version_minor": 0
      },
      "text/plain": [
       "Downloading:   0%|          | 0.00/87.0 [00:00<?, ?B/s]"
      ]
     },
     "metadata": {},
     "output_type": "display_data"
    },
    {
     "data": {
      "application/vnd.jupyter.widget-view+json": {
       "model_id": "fa51a957db364b908801aa2cc284579a",
       "version_major": 2,
       "version_minor": 0
      },
      "text/plain": [
       "Downloading:   0%|          | 0.00/1.36k [00:00<?, ?B/s]"
      ]
     },
     "metadata": {},
     "output_type": "display_data"
    }
   ],
   "source": [
    "# create tokenizer\n",
    "tokenizer = PegasusTokenizer.from_pretrained(\"google/pegasus-xsum\")"
   ]
  },
  {
   "cell_type": "code",
   "execution_count": 7,
   "id": "9a4cc06c-5794-45a2-a49d-9121a4bf68fc",
   "metadata": {},
   "outputs": [
    {
     "data": {
      "application/vnd.jupyter.widget-view+json": {
       "model_id": "e79241fea24f473f8f1fc18b508be7ce",
       "version_major": 2,
       "version_minor": 0
      },
      "text/plain": [
       "Downloading:   0%|          | 0.00/2.12G [00:00<?, ?B/s]"
      ]
     },
     "metadata": {},
     "output_type": "display_data"
    }
   ],
   "source": [
    "#load model\n",
    "model = PegasusForConditionalGeneration.from_pretrained(\"google/pegasus-xsum\")"
   ]
  },
  {
   "cell_type": "code",
   "execution_count": 8,
   "id": "eeeeb46d-719f-4cfc-b0b6-d642d4dc7633",
   "metadata": {},
   "outputs": [],
   "source": [
    "text = \"\"\"\n",
    "The virtual meeting will precede the fourth India-US 2+2 dialogue of defence and foreign ministers on the same day. Defence minister Rajnath Singh and external affairs minister S Jaishankar are set to meet their US counterparts Lloyd Austin and Antony Blinken in Washington.\n",
    "The Ukraine crisis, developments across the Indo-Pacific and measures to strengthen bilateral cooperation are expected to figure at a virtual meeting between Prime Minister Narendra Modi and US President Joe Biden on April 11.\n",
    "The meeting will be held against the backdrop of differences between the two sides on the conflict in Ukraine and its fallout on the world order. In a rare expression of these differences, Biden said last month the world had mounted a “united front” on the Russian aggression against Ukraine while India had been “somewhat shaky” within the Quad.\n",
    "\n",
    "“The virtual meeting will enable both sides to continue their regular and high-level engagement aimed at further strengthening the bilateral Comprehensive Global Strategic Partnership,” the external affairs ministry said in a brief statement.\n",
    "\n",
    "White House spokesperson Jen Psaki said Biden intended to use the meeting to “continue our close consultations on the consequences of Russia’s brutal war against Ukraine and mitigating its destabilising impact on global food supply and commodity markets”.\n",
    "\"\"\""
   ]
  },
  {
   "cell_type": "code",
   "execution_count": 10,
   "id": "be5b387e-a94f-40a8-b526-251c2016ee69",
   "metadata": {},
   "outputs": [
    {
     "data": {
      "text/plain": [
       "{'input_ids': tensor([[  139,  3263,   988,   138, 58247,   109,  2868,  1144,   121,  4750,\n",
       "           280, 40687,  5762,   113,  7909,   111,  2328, 15288,   124,   109,\n",
       "           310,   242,   107, 14637,  5299, 16117, 29717,  8949,   111,  2900,\n",
       "          7044,  5299,   520, 29913,   116, 83532,   127,   323,   112,   670,\n",
       "           153,   787, 12669, 13478,  5098,   111, 49306, 45250,  1227,   115,\n",
       "          1741,   107,   139,  7742,  3533,   108,  5708,   482,   109, 29504,\n",
       "           121, 15662,   111,  2548,   112,  5532, 17754,  4837,   127,  1214,\n",
       "           112,  1868,   134,   114,  3263,   988,   317,  4230,  2965, 29839,\n",
       "         14349,   111,   787,  1276,  3883, 37565,   124,   960,  1073,   107,\n",
       "           139,   988,   138,   129,   886,   464,   109,  9382,   113,  3888,\n",
       "           317,   109,   228,  2600,   124,   109,  3775,   115,  7742,   111,\n",
       "           203, 32118,   124,   109,   278,   385,   107,   222,   114,  2822,\n",
       "          3980,   113,   219,  3888,   108, 37565,   243,   289,   625,   109,\n",
       "           278,   196,  5253,   114,   185, 59230,   683,   227,   124,   109,\n",
       "          3058, 18589,   464,  7742,   277,  1144,   196,   174,   185, 76399,\n",
       "         34162,   227,   373,   109, 19521,   107,   185,   159,  3263,   988,\n",
       "           138,  2392,   302,  2600,   112,   801,   153,  1209,   111,   281,\n",
       "           121,  3393,  2914,  4795,   134,   701, 10031,   109, 17754, 18347,\n",
       "          2871, 12160, 10123,   483,   109,  2900,  7044,  4774,   243,   115,\n",
       "           114,  3598,  1736,   107,  1551,  1087, 13224, 11972,   881, 59771,\n",
       "           243, 37565,  2685,   112,   207,   109,   988,   112,   185, 46808,\n",
       "           150,   686, 15862,   124,   109,  4726,   113,  3260,   123,   116,\n",
       "         13537,  1795,   464,  7742,   111, 36148,   203,   718, 79591,   116,\n",
       "           273,   979,   124,  1122,   425,  1376,   111, 12906,  2099,  1577,\n",
       "             1]]), 'attention_mask': tensor([[1, 1, 1, 1, 1, 1, 1, 1, 1, 1, 1, 1, 1, 1, 1, 1, 1, 1, 1, 1, 1, 1, 1, 1,\n",
       "         1, 1, 1, 1, 1, 1, 1, 1, 1, 1, 1, 1, 1, 1, 1, 1, 1, 1, 1, 1, 1, 1, 1, 1,\n",
       "         1, 1, 1, 1, 1, 1, 1, 1, 1, 1, 1, 1, 1, 1, 1, 1, 1, 1, 1, 1, 1, 1, 1, 1,\n",
       "         1, 1, 1, 1, 1, 1, 1, 1, 1, 1, 1, 1, 1, 1, 1, 1, 1, 1, 1, 1, 1, 1, 1, 1,\n",
       "         1, 1, 1, 1, 1, 1, 1, 1, 1, 1, 1, 1, 1, 1, 1, 1, 1, 1, 1, 1, 1, 1, 1, 1,\n",
       "         1, 1, 1, 1, 1, 1, 1, 1, 1, 1, 1, 1, 1, 1, 1, 1, 1, 1, 1, 1, 1, 1, 1, 1,\n",
       "         1, 1, 1, 1, 1, 1, 1, 1, 1, 1, 1, 1, 1, 1, 1, 1, 1, 1, 1, 1, 1, 1, 1, 1,\n",
       "         1, 1, 1, 1, 1, 1, 1, 1, 1, 1, 1, 1, 1, 1, 1, 1, 1, 1, 1, 1, 1, 1, 1, 1,\n",
       "         1, 1, 1, 1, 1, 1, 1, 1, 1, 1, 1, 1, 1, 1, 1, 1, 1, 1, 1, 1, 1, 1, 1, 1,\n",
       "         1, 1, 1, 1, 1, 1, 1, 1, 1, 1, 1, 1, 1, 1, 1, 1, 1, 1, 1, 1, 1, 1, 1, 1,\n",
       "         1]])}"
      ]
     },
     "execution_count": 10,
     "metadata": {},
     "output_type": "execute_result"
    }
   ],
   "source": [
    "# create tokens - number representation\n",
    "tokens = tokenizer(text, truncation = True, padding = \"longest\", return_tensors = \"pt\")\n",
    "tokens"
   ]
  },
  {
   "cell_type": "code",
   "execution_count": 11,
   "id": "bdafdd0a-b7f3-4b79-a20d-e45fdc772c21",
   "metadata": {},
   "outputs": [
    {
     "data": {
      "text/plain": [
       "tensor([[   0, 1144,  111,  109,  787,  138, 1137,  114, 3263,  988,  124,  960,\n",
       "         1073,  112, 1693,  109, 7742, 3533,  107,    1]])"
      ]
     },
     "execution_count": 11,
     "metadata": {},
     "output_type": "execute_result"
    }
   ],
   "source": [
    "# summarize\n",
    "summary = model.generate(**tokens)\n",
    "summary[0]"
   ]
  },
  {
   "cell_type": "code",
   "execution_count": 12,
   "id": "6b21747b-4c96-48fd-b847-2081dc5c4326",
   "metadata": {},
   "outputs": [
    {
     "data": {
      "text/plain": [
       "'India and the US will hold a virtual meeting on April 11 to discuss the Ukraine crisis.'"
      ]
     },
     "execution_count": 12,
     "metadata": {},
     "output_type": "execute_result"
    }
   ],
   "source": [
    "# decoding summary\n",
    "tokenizer.decode(summary[0])"
   ]
  },
  {
   "cell_type": "code",
   "execution_count": null,
   "id": "c2a8481a-af2a-4a04-a390-9a55b6e87b4a",
   "metadata": {},
   "outputs": [],
   "source": []
  },
  {
   "cell_type": "code",
   "execution_count": null,
   "id": "7d2ab8ed-744d-4a4f-88d8-440b1be7c84f",
   "metadata": {},
   "outputs": [],
   "source": []
  }
 ],
 "metadata": {
  "kernelspec": {
   "display_name": "Python 3 (ipykernel)",
   "language": "python",
   "name": "python3"
  },
  "language_info": {
   "codemirror_mode": {
    "name": "ipython",
    "version": 3
   },
   "file_extension": ".py",
   "mimetype": "text/x-python",
   "name": "python",
   "nbconvert_exporter": "python",
   "pygments_lexer": "ipython3",
   "version": "3.9.7"
  }
 },
 "nbformat": 4,
 "nbformat_minor": 5
}
